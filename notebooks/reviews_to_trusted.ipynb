{
 "cells": [
  {
   "cell_type": "markdown",
   "id": "a0a42297-55d1-4df5-a9f6-0cb4020e1ccd",
   "metadata": {},
   "source": [
    "### Dataset Reviews\n",
    "\n",
    "> Neste notebook ocorrerá as análises e alterações necessárias para tornar o dataframe Reviews confiável para modelagem dimensional tais como comentários acerca de determinadas decisões."
   ]
  },
  {
   "cell_type": "code",
   "execution_count": 1,
   "id": "f2e4dfd6-e898-4d08-9cfd-55e94539a7e3",
   "metadata": {},
   "outputs": [],
   "source": [
    "import pandas as pd\n",
    "import numpy as np\n",
    "\n",
    "pd.set_option('display.max_columns', None)\n",
    "\n",
    "PATH_RAW = '../input/raw/'\n",
    "PATH_TRUSTED = '../output/pd/trusted/'\n",
    "\n",
    "ds_reviews = pd.read_csv(PATH_RAW + 'olist_order_reviews_dataset.csv')\n",
    "ds_orders = pd.read_csv(PATH_TRUSTED + 'orders_trusted.csv')"
   ]
  },
  {
   "cell_type": "markdown",
   "id": "fe2b3b84-8551-4f85-a794-33abb1157834",
   "metadata": {},
   "source": [
    "#### Análise do dataset Order Reviews"
   ]
  },
  {
   "cell_type": "code",
   "execution_count": 2,
   "id": "0815b870-9759-4367-a420-cb3c855e2384",
   "metadata": {
    "scrolled": true
   },
   "outputs": [
    {
     "data": {
      "text/html": [
       "<div>\n",
       "<style scoped>\n",
       "    .dataframe tbody tr th:only-of-type {\n",
       "        vertical-align: middle;\n",
       "    }\n",
       "\n",
       "    .dataframe tbody tr th {\n",
       "        vertical-align: top;\n",
       "    }\n",
       "\n",
       "    .dataframe thead th {\n",
       "        text-align: right;\n",
       "    }\n",
       "</style>\n",
       "<table border=\"1\" class=\"dataframe\">\n",
       "  <thead>\n",
       "    <tr style=\"text-align: right;\">\n",
       "      <th></th>\n",
       "      <th>review_id</th>\n",
       "      <th>order_id</th>\n",
       "      <th>review_score</th>\n",
       "      <th>review_comment_title</th>\n",
       "      <th>review_comment_message</th>\n",
       "      <th>review_creation_date</th>\n",
       "      <th>review_answer_timestamp</th>\n",
       "    </tr>\n",
       "  </thead>\n",
       "  <tbody>\n",
       "    <tr>\n",
       "      <th>0</th>\n",
       "      <td>7bc2406110b926393aa56f80a40eba40</td>\n",
       "      <td>73fc7af87114b39712e6da79b0a377eb</td>\n",
       "      <td>4</td>\n",
       "      <td>NaN</td>\n",
       "      <td>NaN</td>\n",
       "      <td>2018-01-18 00:00:00</td>\n",
       "      <td>2018-01-18 21:46:59</td>\n",
       "    </tr>\n",
       "    <tr>\n",
       "      <th>1</th>\n",
       "      <td>80e641a11e56f04c1ad469d5645fdfde</td>\n",
       "      <td>a548910a1c6147796b98fdf73dbeba33</td>\n",
       "      <td>5</td>\n",
       "      <td>NaN</td>\n",
       "      <td>NaN</td>\n",
       "      <td>2018-03-10 00:00:00</td>\n",
       "      <td>2018-03-11 03:05:13</td>\n",
       "    </tr>\n",
       "  </tbody>\n",
       "</table>\n",
       "</div>"
      ],
      "text/plain": [
       "                          review_id                          order_id  \\\n",
       "0  7bc2406110b926393aa56f80a40eba40  73fc7af87114b39712e6da79b0a377eb   \n",
       "1  80e641a11e56f04c1ad469d5645fdfde  a548910a1c6147796b98fdf73dbeba33   \n",
       "\n",
       "   review_score review_comment_title review_comment_message  \\\n",
       "0             4                  NaN                    NaN   \n",
       "1             5                  NaN                    NaN   \n",
       "\n",
       "  review_creation_date review_answer_timestamp  \n",
       "0  2018-01-18 00:00:00     2018-01-18 21:46:59  \n",
       "1  2018-03-10 00:00:00     2018-03-11 03:05:13  "
      ]
     },
     "execution_count": 2,
     "metadata": {},
     "output_type": "execute_result"
    }
   ],
   "source": [
    "ds_reviews.head(2)"
   ]
  },
  {
   "cell_type": "markdown",
   "id": "52c7a74a-9a48-4b9c-ae41-c13c89c69fc3",
   "metadata": {},
   "source": [
    "**Análise das Variáveis/Colunas**\n",
    "\n",
    "- **review_score**: Variável Qualitativa Ordinal\n",
    "- **review_comment_title**: Variável Qualitativa Nominal\n",
    "- **review_comment_message**: Variável Qualitativa Nominal\n",
    "- **review_creation_date**: Variável Qualitativa Ordinal\n",
    "- **review_answer_timestamp**: Variável Qualitativa Ordinal"
   ]
  },
  {
   "cell_type": "markdown",
   "id": "45877b71-f468-4e75-8cd4-68450f08c08b",
   "metadata": {},
   "source": [
    "#### Análise Valores Nulos/Inconsistências"
   ]
  },
  {
   "cell_type": "code",
   "execution_count": 3,
   "id": "b6d20d7b-91d7-4322-b885-440a5a8a2c8e",
   "metadata": {},
   "outputs": [
    {
     "data": {
      "text/plain": [
       "review_score\n",
       "5    57328\n",
       "4    19142\n",
       "1    11424\n",
       "3     8179\n",
       "2     3151\n",
       "Name: count, dtype: int64"
      ]
     },
     "execution_count": 3,
     "metadata": {},
     "output_type": "execute_result"
    }
   ],
   "source": [
    "ds_reviews.review_score.value_counts()"
   ]
  },
  {
   "cell_type": "code",
   "execution_count": 4,
   "id": "88292c92-9a35-4de3-bbbf-3a0db095e02f",
   "metadata": {},
   "outputs": [
    {
     "data": {
      "text/plain": [
       "review_id                      0\n",
       "order_id                       0\n",
       "review_score                   0\n",
       "review_comment_title       87656\n",
       "review_comment_message     58247\n",
       "review_creation_date           0\n",
       "review_answer_timestamp        0\n",
       "dtype: int64"
      ]
     },
     "execution_count": 4,
     "metadata": {},
     "output_type": "execute_result"
    }
   ],
   "source": [
    "ds_reviews.isnull().sum()"
   ]
  },
  {
   "cell_type": "markdown",
   "id": "9e84ddd9-150c-4985-bf32-38a8b97859f7",
   "metadata": {},
   "source": [
    "> Aqui achei interessante invés de deixar um título e mensagem Nulos, **definir um padrão para ser exibido**."
   ]
  },
  {
   "cell_type": "code",
   "execution_count": 5,
   "id": "2069679c-da54-4b84-8432-a283a3801cc6",
   "metadata": {},
   "outputs": [],
   "source": [
    "ds_reviews.fillna({'review_comment_title':'Sem Titulo', 'review_comment_message':'Sem Comentários'}, inplace=True)"
   ]
  },
  {
   "cell_type": "code",
   "execution_count": 6,
   "id": "5eec4a7c-0188-4733-979c-c97ebee757ee",
   "metadata": {},
   "outputs": [
    {
     "data": {
      "text/plain": [
       "review_id                  0\n",
       "order_id                   0\n",
       "review_score               0\n",
       "review_comment_title       0\n",
       "review_comment_message     0\n",
       "review_creation_date       0\n",
       "review_answer_timestamp    0\n",
       "dtype: int64"
      ]
     },
     "execution_count": 6,
     "metadata": {},
     "output_type": "execute_result"
    }
   ],
   "source": [
    "ds_reviews.isnull().sum()"
   ]
  },
  {
   "cell_type": "markdown",
   "id": "26986bbb-4533-4ef2-b8d5-b6bd5503c9c7",
   "metadata": {},
   "source": [
    "#"
   ]
  },
  {
   "cell_type": "markdown",
   "id": "534757e8-6e52-4078-9e54-4f6c4e5933b1",
   "metadata": {},
   "source": [
    "#### Verificação de Duplicatas"
   ]
  },
  {
   "cell_type": "markdown",
   "id": "f689c7bf-e2fa-4555-8b96-a955aa7377e1",
   "metadata": {},
   "source": [
    "> Agora com os dados devidamente tratados, começaremos a fazer as nossas modificações.\n",
    "\n",
    "> Porém antes removerei os dados duplicados referentes a `order_id` pois de acordo com minha análise feita, faz sentido um mesmo cliente fazer reviews diferentes `(review_id duplicados)` porém sempre será de pedidos diferentes, pois sempre é gerado um novo `order_id` a compras distintas."
   ]
  },
  {
   "cell_type": "code",
   "execution_count": 7,
   "id": "8ea5a0e0-dc12-46b2-9f31-8a0fbafbd020",
   "metadata": {},
   "outputs": [
    {
     "data": {
      "text/plain": [
       "(99224, 7)"
      ]
     },
     "execution_count": 7,
     "metadata": {},
     "output_type": "execute_result"
    }
   ],
   "source": [
    "ds_reviews.shape"
   ]
  },
  {
   "cell_type": "code",
   "execution_count": 8,
   "id": "c0fc09ea-7429-440a-964b-6233ed37d3f3",
   "metadata": {},
   "outputs": [
    {
     "data": {
      "text/plain": [
       "False    98673\n",
       "True       551\n",
       "Name: count, dtype: int64"
      ]
     },
     "execution_count": 8,
     "metadata": {},
     "output_type": "execute_result"
    }
   ],
   "source": [
    "ds_reviews.duplicated(subset=['order_id'], keep='first').value_counts()"
   ]
  },
  {
   "cell_type": "code",
   "execution_count": 9,
   "id": "ca1be368-688a-43ac-80a2-569565fb75fa",
   "metadata": {},
   "outputs": [],
   "source": [
    "ds_reviews.drop_duplicates(subset=['order_id'], inplace=True)"
   ]
  },
  {
   "cell_type": "code",
   "execution_count": 10,
   "id": "58334e2d-4a37-4784-bfba-f039480a2a10",
   "metadata": {},
   "outputs": [
    {
     "data": {
      "text/plain": [
       "False    98673\n",
       "Name: count, dtype: int64"
      ]
     },
     "execution_count": 10,
     "metadata": {},
     "output_type": "execute_result"
    }
   ],
   "source": [
    "ds_reviews.duplicated(subset=['order_id'], keep='first').value_counts()"
   ]
  },
  {
   "cell_type": "markdown",
   "id": "b7686a56-fba6-47fb-8de5-14c84380f717",
   "metadata": {},
   "source": [
    "> Agora, criarei um novo `review_id`, pois o id deve ser único, também percebi que conseguimos extrair o cliente diretamente dataset `orders`, ou seja, não importa se os valores deste dataset estão duplicados, conseguimos analisar da mesma forma através do dataset `orders`"
   ]
  },
  {
   "cell_type": "code",
   "execution_count": 11,
   "id": "ed9a9713-6ebd-4502-876f-84456af7df1a",
   "metadata": {},
   "outputs": [],
   "source": [
    "ds_reviews.drop(columns=['review_id'], inplace=True)\n",
    "ds_reviews['review_id'] = range(1, len(ds_reviews) + 1)"
   ]
  },
  {
   "cell_type": "code",
   "execution_count": 12,
   "id": "5f5684ac-66ea-4724-bf31-60cc7e6acfdd",
   "metadata": {
    "scrolled": true
   },
   "outputs": [
    {
     "data": {
      "text/html": [
       "<div>\n",
       "<style scoped>\n",
       "    .dataframe tbody tr th:only-of-type {\n",
       "        vertical-align: middle;\n",
       "    }\n",
       "\n",
       "    .dataframe tbody tr th {\n",
       "        vertical-align: top;\n",
       "    }\n",
       "\n",
       "    .dataframe thead th {\n",
       "        text-align: right;\n",
       "    }\n",
       "</style>\n",
       "<table border=\"1\" class=\"dataframe\">\n",
       "  <thead>\n",
       "    <tr style=\"text-align: right;\">\n",
       "      <th></th>\n",
       "      <th>order_id</th>\n",
       "      <th>review_score</th>\n",
       "      <th>review_comment_title</th>\n",
       "      <th>review_comment_message</th>\n",
       "      <th>review_creation_date</th>\n",
       "      <th>review_answer_timestamp</th>\n",
       "      <th>review_id</th>\n",
       "    </tr>\n",
       "  </thead>\n",
       "  <tbody>\n",
       "    <tr>\n",
       "      <th>0</th>\n",
       "      <td>73fc7af87114b39712e6da79b0a377eb</td>\n",
       "      <td>4</td>\n",
       "      <td>Sem Titulo</td>\n",
       "      <td>Sem Comentários</td>\n",
       "      <td>2018-01-18 00:00:00</td>\n",
       "      <td>2018-01-18 21:46:59</td>\n",
       "      <td>1</td>\n",
       "    </tr>\n",
       "    <tr>\n",
       "      <th>1</th>\n",
       "      <td>a548910a1c6147796b98fdf73dbeba33</td>\n",
       "      <td>5</td>\n",
       "      <td>Sem Titulo</td>\n",
       "      <td>Sem Comentários</td>\n",
       "      <td>2018-03-10 00:00:00</td>\n",
       "      <td>2018-03-11 03:05:13</td>\n",
       "      <td>2</td>\n",
       "    </tr>\n",
       "    <tr>\n",
       "      <th>2</th>\n",
       "      <td>f9e4b658b201a9f2ecdecbb34bed034b</td>\n",
       "      <td>5</td>\n",
       "      <td>Sem Titulo</td>\n",
       "      <td>Sem Comentários</td>\n",
       "      <td>2018-02-17 00:00:00</td>\n",
       "      <td>2018-02-18 14:36:24</td>\n",
       "      <td>3</td>\n",
       "    </tr>\n",
       "    <tr>\n",
       "      <th>3</th>\n",
       "      <td>658677c97b385a9be170737859d3511b</td>\n",
       "      <td>5</td>\n",
       "      <td>Sem Titulo</td>\n",
       "      <td>Recebi bem antes do prazo estipulado.</td>\n",
       "      <td>2017-04-21 00:00:00</td>\n",
       "      <td>2017-04-21 22:02:06</td>\n",
       "      <td>4</td>\n",
       "    </tr>\n",
       "    <tr>\n",
       "      <th>4</th>\n",
       "      <td>8e6bfb81e283fa7e4f11123a3fb894f1</td>\n",
       "      <td>5</td>\n",
       "      <td>Sem Titulo</td>\n",
       "      <td>Parabéns lojas lannister adorei comprar pela I...</td>\n",
       "      <td>2018-03-01 00:00:00</td>\n",
       "      <td>2018-03-02 10:26:53</td>\n",
       "      <td>5</td>\n",
       "    </tr>\n",
       "    <tr>\n",
       "      <th>...</th>\n",
       "      <td>...</td>\n",
       "      <td>...</td>\n",
       "      <td>...</td>\n",
       "      <td>...</td>\n",
       "      <td>...</td>\n",
       "      <td>...</td>\n",
       "      <td>...</td>\n",
       "    </tr>\n",
       "    <tr>\n",
       "      <th>99219</th>\n",
       "      <td>2a8c23fee101d4d5662fa670396eb8da</td>\n",
       "      <td>5</td>\n",
       "      <td>Sem Titulo</td>\n",
       "      <td>Sem Comentários</td>\n",
       "      <td>2018-07-07 00:00:00</td>\n",
       "      <td>2018-07-14 17:18:30</td>\n",
       "      <td>98669</td>\n",
       "    </tr>\n",
       "    <tr>\n",
       "      <th>99220</th>\n",
       "      <td>22ec9f0669f784db00fa86d035cf8602</td>\n",
       "      <td>5</td>\n",
       "      <td>Sem Titulo</td>\n",
       "      <td>Sem Comentários</td>\n",
       "      <td>2017-12-09 00:00:00</td>\n",
       "      <td>2017-12-11 20:06:42</td>\n",
       "      <td>98670</td>\n",
       "    </tr>\n",
       "    <tr>\n",
       "      <th>99221</th>\n",
       "      <td>55d4004744368f5571d1f590031933e4</td>\n",
       "      <td>5</td>\n",
       "      <td>Sem Titulo</td>\n",
       "      <td>Excelente mochila, entrega super rápida. Super...</td>\n",
       "      <td>2018-03-22 00:00:00</td>\n",
       "      <td>2018-03-23 09:10:43</td>\n",
       "      <td>98671</td>\n",
       "    </tr>\n",
       "    <tr>\n",
       "      <th>99222</th>\n",
       "      <td>7725825d039fc1f0ceb7635e3f7d9206</td>\n",
       "      <td>4</td>\n",
       "      <td>Sem Titulo</td>\n",
       "      <td>Sem Comentários</td>\n",
       "      <td>2018-07-01 00:00:00</td>\n",
       "      <td>2018-07-02 12:59:13</td>\n",
       "      <td>98672</td>\n",
       "    </tr>\n",
       "    <tr>\n",
       "      <th>99223</th>\n",
       "      <td>90531360ecb1eec2a1fbb265a0db0508</td>\n",
       "      <td>1</td>\n",
       "      <td>Sem Titulo</td>\n",
       "      <td>meu produto chegou e ja tenho que devolver, po...</td>\n",
       "      <td>2017-07-03 00:00:00</td>\n",
       "      <td>2017-07-03 21:01:49</td>\n",
       "      <td>98673</td>\n",
       "    </tr>\n",
       "  </tbody>\n",
       "</table>\n",
       "<p>98673 rows × 7 columns</p>\n",
       "</div>"
      ],
      "text/plain": [
       "                               order_id  review_score review_comment_title  \\\n",
       "0      73fc7af87114b39712e6da79b0a377eb             4           Sem Titulo   \n",
       "1      a548910a1c6147796b98fdf73dbeba33             5           Sem Titulo   \n",
       "2      f9e4b658b201a9f2ecdecbb34bed034b             5           Sem Titulo   \n",
       "3      658677c97b385a9be170737859d3511b             5           Sem Titulo   \n",
       "4      8e6bfb81e283fa7e4f11123a3fb894f1             5           Sem Titulo   \n",
       "...                                 ...           ...                  ...   \n",
       "99219  2a8c23fee101d4d5662fa670396eb8da             5           Sem Titulo   \n",
       "99220  22ec9f0669f784db00fa86d035cf8602             5           Sem Titulo   \n",
       "99221  55d4004744368f5571d1f590031933e4             5           Sem Titulo   \n",
       "99222  7725825d039fc1f0ceb7635e3f7d9206             4           Sem Titulo   \n",
       "99223  90531360ecb1eec2a1fbb265a0db0508             1           Sem Titulo   \n",
       "\n",
       "                                  review_comment_message review_creation_date  \\\n",
       "0                                        Sem Comentários  2018-01-18 00:00:00   \n",
       "1                                        Sem Comentários  2018-03-10 00:00:00   \n",
       "2                                        Sem Comentários  2018-02-17 00:00:00   \n",
       "3                  Recebi bem antes do prazo estipulado.  2017-04-21 00:00:00   \n",
       "4      Parabéns lojas lannister adorei comprar pela I...  2018-03-01 00:00:00   \n",
       "...                                                  ...                  ...   \n",
       "99219                                    Sem Comentários  2018-07-07 00:00:00   \n",
       "99220                                    Sem Comentários  2017-12-09 00:00:00   \n",
       "99221  Excelente mochila, entrega super rápida. Super...  2018-03-22 00:00:00   \n",
       "99222                                    Sem Comentários  2018-07-01 00:00:00   \n",
       "99223  meu produto chegou e ja tenho que devolver, po...  2017-07-03 00:00:00   \n",
       "\n",
       "      review_answer_timestamp  review_id  \n",
       "0         2018-01-18 21:46:59          1  \n",
       "1         2018-03-11 03:05:13          2  \n",
       "2         2018-02-18 14:36:24          3  \n",
       "3         2017-04-21 22:02:06          4  \n",
       "4         2018-03-02 10:26:53          5  \n",
       "...                       ...        ...  \n",
       "99219     2018-07-14 17:18:30      98669  \n",
       "99220     2017-12-11 20:06:42      98670  \n",
       "99221     2018-03-23 09:10:43      98671  \n",
       "99222     2018-07-02 12:59:13      98672  \n",
       "99223     2017-07-03 21:01:49      98673  \n",
       "\n",
       "[98673 rows x 7 columns]"
      ]
     },
     "execution_count": 12,
     "metadata": {},
     "output_type": "execute_result"
    }
   ],
   "source": [
    "ds_reviews"
   ]
  },
  {
   "cell_type": "markdown",
   "id": "c76530d0-a6e1-4429-b5cd-eeaf66253dc4",
   "metadata": {},
   "source": [
    "#"
   ]
  },
  {
   "cell_type": "markdown",
   "id": "4c6e5d9f-01aa-42e6-adab-a8f04a093785",
   "metadata": {},
   "source": [
    "#### Padronização dos Indexes"
   ]
  },
  {
   "cell_type": "markdown",
   "id": "593f294a-9107-4ee4-a374-cc534dd66226",
   "metadata": {},
   "source": [
    "> Com o nosso novo `review_id` podemos substituir o `order_id` do nosso dataset `review` com o `order_id_int` criado no notebook de [Payment](./payments_to_trusted.ipynb)."
   ]
  },
  {
   "cell_type": "code",
   "execution_count": 13,
   "id": "9b6c1f07-d2d5-494d-b8dc-add7848787e3",
   "metadata": {},
   "outputs": [
    {
     "data": {
      "text/plain": [
       "order_id\n",
       "e481f51cbdc54678b7cc49136f2d6af7        1\n",
       "53cdb2fc8bc7dce0b6741e2150273451        2\n",
       "47770eb9100c2d0c44946d9cf07ec65d        3\n",
       "949d5b44dbf5de918fe9c16f97b45f8a        4\n",
       "ad21c59c0840e6cb83a9ceb5573f8159        5\n",
       "                                    ...  \n",
       "9c5dedf39a927c1b2549525ed64a053c    99437\n",
       "63943bddc261676b46f01ca7ac2f7bd8    99438\n",
       "83c1379a015df1e13d02aae0204711ab    99439\n",
       "11c177c8e97725db2631073c19f07b62    99440\n",
       "66dea50a8b16d9b4dee7af250b4be1a5    99441\n",
       "Name: order_id_int, Length: 99441, dtype: int64"
      ]
     },
     "execution_count": 13,
     "metadata": {},
     "output_type": "execute_result"
    }
   ],
   "source": [
    "order_id_map = ds_orders.set_index('order_id')['order_id_int']\n",
    "order_id_map"
   ]
  },
  {
   "cell_type": "code",
   "execution_count": 14,
   "id": "09da7cdc-9b4e-4d77-9660-357349aa8004",
   "metadata": {},
   "outputs": [
    {
     "data": {
      "text/html": [
       "<div>\n",
       "<style scoped>\n",
       "    .dataframe tbody tr th:only-of-type {\n",
       "        vertical-align: middle;\n",
       "    }\n",
       "\n",
       "    .dataframe tbody tr th {\n",
       "        vertical-align: top;\n",
       "    }\n",
       "\n",
       "    .dataframe thead th {\n",
       "        text-align: right;\n",
       "    }\n",
       "</style>\n",
       "<table border=\"1\" class=\"dataframe\">\n",
       "  <thead>\n",
       "    <tr style=\"text-align: right;\">\n",
       "      <th></th>\n",
       "      <th>order_id</th>\n",
       "      <th>review_score</th>\n",
       "      <th>review_comment_title</th>\n",
       "      <th>review_comment_message</th>\n",
       "      <th>review_creation_date</th>\n",
       "      <th>review_answer_timestamp</th>\n",
       "      <th>review_id</th>\n",
       "    </tr>\n",
       "  </thead>\n",
       "  <tbody>\n",
       "    <tr>\n",
       "      <th>0</th>\n",
       "      <td>1872</td>\n",
       "      <td>4</td>\n",
       "      <td>Sem Titulo</td>\n",
       "      <td>Sem Comentários</td>\n",
       "      <td>2018-01-18 00:00:00</td>\n",
       "      <td>2018-01-18 21:46:59</td>\n",
       "      <td>1</td>\n",
       "    </tr>\n",
       "    <tr>\n",
       "      <th>1</th>\n",
       "      <td>90489</td>\n",
       "      <td>5</td>\n",
       "      <td>Sem Titulo</td>\n",
       "      <td>Sem Comentários</td>\n",
       "      <td>2018-03-10 00:00:00</td>\n",
       "      <td>2018-03-11 03:05:13</td>\n",
       "      <td>2</td>\n",
       "    </tr>\n",
       "    <tr>\n",
       "      <th>2</th>\n",
       "      <td>78883</td>\n",
       "      <td>5</td>\n",
       "      <td>Sem Titulo</td>\n",
       "      <td>Sem Comentários</td>\n",
       "      <td>2018-02-17 00:00:00</td>\n",
       "      <td>2018-02-18 14:36:24</td>\n",
       "      <td>3</td>\n",
       "    </tr>\n",
       "    <tr>\n",
       "      <th>3</th>\n",
       "      <td>27558</td>\n",
       "      <td>5</td>\n",
       "      <td>Sem Titulo</td>\n",
       "      <td>Recebi bem antes do prazo estipulado.</td>\n",
       "      <td>2017-04-21 00:00:00</td>\n",
       "      <td>2017-04-21 22:02:06</td>\n",
       "      <td>4</td>\n",
       "    </tr>\n",
       "    <tr>\n",
       "      <th>4</th>\n",
       "      <td>79506</td>\n",
       "      <td>5</td>\n",
       "      <td>Sem Titulo</td>\n",
       "      <td>Parabéns lojas lannister adorei comprar pela I...</td>\n",
       "      <td>2018-03-01 00:00:00</td>\n",
       "      <td>2018-03-02 10:26:53</td>\n",
       "      <td>5</td>\n",
       "    </tr>\n",
       "    <tr>\n",
       "      <th>...</th>\n",
       "      <td>...</td>\n",
       "      <td>...</td>\n",
       "      <td>...</td>\n",
       "      <td>...</td>\n",
       "      <td>...</td>\n",
       "      <td>...</td>\n",
       "      <td>...</td>\n",
       "    </tr>\n",
       "    <tr>\n",
       "      <th>99219</th>\n",
       "      <td>66507</td>\n",
       "      <td>5</td>\n",
       "      <td>Sem Titulo</td>\n",
       "      <td>Sem Comentários</td>\n",
       "      <td>2018-07-07 00:00:00</td>\n",
       "      <td>2018-07-14 17:18:30</td>\n",
       "      <td>98669</td>\n",
       "    </tr>\n",
       "    <tr>\n",
       "      <th>99220</th>\n",
       "      <td>84919</td>\n",
       "      <td>5</td>\n",
       "      <td>Sem Titulo</td>\n",
       "      <td>Sem Comentários</td>\n",
       "      <td>2017-12-09 00:00:00</td>\n",
       "      <td>2017-12-11 20:06:42</td>\n",
       "      <td>98670</td>\n",
       "    </tr>\n",
       "    <tr>\n",
       "      <th>99221</th>\n",
       "      <td>9818</td>\n",
       "      <td>5</td>\n",
       "      <td>Sem Titulo</td>\n",
       "      <td>Excelente mochila, entrega super rápida. Super...</td>\n",
       "      <td>2018-03-22 00:00:00</td>\n",
       "      <td>2018-03-23 09:10:43</td>\n",
       "      <td>98671</td>\n",
       "    </tr>\n",
       "    <tr>\n",
       "      <th>99222</th>\n",
       "      <td>29007</td>\n",
       "      <td>4</td>\n",
       "      <td>Sem Titulo</td>\n",
       "      <td>Sem Comentários</td>\n",
       "      <td>2018-07-01 00:00:00</td>\n",
       "      <td>2018-07-02 12:59:13</td>\n",
       "      <td>98672</td>\n",
       "    </tr>\n",
       "    <tr>\n",
       "      <th>99223</th>\n",
       "      <td>51237</td>\n",
       "      <td>1</td>\n",
       "      <td>Sem Titulo</td>\n",
       "      <td>meu produto chegou e ja tenho que devolver, po...</td>\n",
       "      <td>2017-07-03 00:00:00</td>\n",
       "      <td>2017-07-03 21:01:49</td>\n",
       "      <td>98673</td>\n",
       "    </tr>\n",
       "  </tbody>\n",
       "</table>\n",
       "<p>98673 rows × 7 columns</p>\n",
       "</div>"
      ],
      "text/plain": [
       "       order_id  review_score review_comment_title  \\\n",
       "0          1872             4           Sem Titulo   \n",
       "1         90489             5           Sem Titulo   \n",
       "2         78883             5           Sem Titulo   \n",
       "3         27558             5           Sem Titulo   \n",
       "4         79506             5           Sem Titulo   \n",
       "...         ...           ...                  ...   \n",
       "99219     66507             5           Sem Titulo   \n",
       "99220     84919             5           Sem Titulo   \n",
       "99221      9818             5           Sem Titulo   \n",
       "99222     29007             4           Sem Titulo   \n",
       "99223     51237             1           Sem Titulo   \n",
       "\n",
       "                                  review_comment_message review_creation_date  \\\n",
       "0                                        Sem Comentários  2018-01-18 00:00:00   \n",
       "1                                        Sem Comentários  2018-03-10 00:00:00   \n",
       "2                                        Sem Comentários  2018-02-17 00:00:00   \n",
       "3                  Recebi bem antes do prazo estipulado.  2017-04-21 00:00:00   \n",
       "4      Parabéns lojas lannister adorei comprar pela I...  2018-03-01 00:00:00   \n",
       "...                                                  ...                  ...   \n",
       "99219                                    Sem Comentários  2018-07-07 00:00:00   \n",
       "99220                                    Sem Comentários  2017-12-09 00:00:00   \n",
       "99221  Excelente mochila, entrega super rápida. Super...  2018-03-22 00:00:00   \n",
       "99222                                    Sem Comentários  2018-07-01 00:00:00   \n",
       "99223  meu produto chegou e ja tenho que devolver, po...  2017-07-03 00:00:00   \n",
       "\n",
       "      review_answer_timestamp  review_id  \n",
       "0         2018-01-18 21:46:59          1  \n",
       "1         2018-03-11 03:05:13          2  \n",
       "2         2018-02-18 14:36:24          3  \n",
       "3         2017-04-21 22:02:06          4  \n",
       "4         2018-03-02 10:26:53          5  \n",
       "...                       ...        ...  \n",
       "99219     2018-07-14 17:18:30      98669  \n",
       "99220     2017-12-11 20:06:42      98670  \n",
       "99221     2018-03-23 09:10:43      98671  \n",
       "99222     2018-07-02 12:59:13      98672  \n",
       "99223     2017-07-03 21:01:49      98673  \n",
       "\n",
       "[98673 rows x 7 columns]"
      ]
     },
     "execution_count": 14,
     "metadata": {},
     "output_type": "execute_result"
    }
   ],
   "source": [
    "ds_reviews['order_id'] = ds_reviews['order_id'].map(order_id_map)\n",
    "ds_reviews"
   ]
  },
  {
   "cell_type": "markdown",
   "id": "998ab3fb-48d5-4015-a4f1-1133bd829d5c",
   "metadata": {},
   "source": [
    "#"
   ]
  },
  {
   "cell_type": "markdown",
   "id": "9877b414-716d-4986-8ed5-8da8716d4b44",
   "metadata": {},
   "source": [
    "#### Carregamento do dataset Review para a trusted\n",
    "\n",
    "> Agora com nosso dataset review atualizado com seu novo índice `review_id` e devidas alterações visando a consistência, podemos carregar os datasets alterados para a nossa camada `trusted`"
   ]
  },
  {
   "cell_type": "code",
   "execution_count": 15,
   "id": "df3d7178-7706-4902-8fa2-1781b4239adb",
   "metadata": {},
   "outputs": [],
   "source": [
    "ds_reviews = ds_reviews.convert_dtypes()\n",
    "ds_orders = ds_orders.convert_dtypes()\n",
    "\n",
    "ds_reviews.to_csv(PATH_TRUSTED + 'reviews_trusted.csv', index=False)\n",
    "ds_orders.to_csv(PATH_TRUSTED + 'orders_trusted.csv', index=False)"
   ]
  }
 ],
 "metadata": {
  "kernelspec": {
   "display_name": "Python 3 (ipykernel)",
   "language": "python",
   "name": "python3"
  },
  "language_info": {
   "codemirror_mode": {
    "name": "ipython",
    "version": 3
   },
   "file_extension": ".py",
   "mimetype": "text/x-python",
   "name": "python",
   "nbconvert_exporter": "python",
   "pygments_lexer": "ipython3",
   "version": "3.12.4"
  }
 },
 "nbformat": 4,
 "nbformat_minor": 5
}
